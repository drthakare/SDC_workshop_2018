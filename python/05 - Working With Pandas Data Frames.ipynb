{
 "cells": [
  {
   "cell_type": "markdown",
   "metadata": {},
   "source": [
    "# Working With Pandas Data Frames\n",
    "---"
   ]
  },
  {
   "cell_type": "markdown",
   "metadata": {},
   "source": [
    "* Import the pandas library as pd and read in the csv that we just wrote as a data frame using the `read_csv`."
   ]
  },
  {
   "cell_type": "code",
   "execution_count": 3,
   "metadata": {},
   "outputs": [
    {
     "data": {
      "text/html": [
       "<div>\n",
       "<style>\n",
       "    .dataframe thead tr:only-child th {\n",
       "        text-align: right;\n",
       "    }\n",
       "\n",
       "    .dataframe thead th {\n",
       "        text-align: left;\n",
       "    }\n",
       "\n",
       "    .dataframe tbody tr th {\n",
       "        vertical-align: top;\n",
       "    }\n",
       "</style>\n",
       "<table border=\"1\" class=\"dataframe\">\n",
       "  <thead>\n",
       "    <tr style=\"text-align: right;\">\n",
       "      <th></th>\n",
       "      <th>country</th>\n",
       "      <th>year</th>\n",
       "      <th>pop</th>\n",
       "      <th>continent</th>\n",
       "      <th>lifeExp</th>\n",
       "      <th>gdpPercap</th>\n",
       "    </tr>\n",
       "  </thead>\n",
       "  <tbody>\n",
       "    <tr>\n",
       "      <th>0</th>\n",
       "      <td>Afghanistan</td>\n",
       "      <td>1997</td>\n",
       "      <td>22227415.0</td>\n",
       "      <td>Asia</td>\n",
       "      <td>41.763</td>\n",
       "      <td>635.341351</td>\n",
       "    </tr>\n",
       "    <tr>\n",
       "      <th>1</th>\n",
       "      <td>Afghanistan</td>\n",
       "      <td>2002</td>\n",
       "      <td>25268405.0</td>\n",
       "      <td>Asia</td>\n",
       "      <td>42.129</td>\n",
       "      <td>726.734055</td>\n",
       "    </tr>\n",
       "    <tr>\n",
       "      <th>2</th>\n",
       "      <td>Afghanistan</td>\n",
       "      <td>2007</td>\n",
       "      <td>31889923.0</td>\n",
       "      <td>Asia</td>\n",
       "      <td>43.828</td>\n",
       "      <td>974.580338</td>\n",
       "    </tr>\n",
       "    <tr>\n",
       "      <th>3</th>\n",
       "      <td>Afghanistan</td>\n",
       "      <td>1952</td>\n",
       "      <td>8425333.0</td>\n",
       "      <td>Asia</td>\n",
       "      <td>28.801</td>\n",
       "      <td>779.445314</td>\n",
       "    </tr>\n",
       "    <tr>\n",
       "      <th>4</th>\n",
       "      <td>Afghanistan</td>\n",
       "      <td>1957</td>\n",
       "      <td>9240934.0</td>\n",
       "      <td>Asia</td>\n",
       "      <td>30.332</td>\n",
       "      <td>820.853030</td>\n",
       "    </tr>\n",
       "  </tbody>\n",
       "</table>\n",
       "</div>"
      ],
      "text/plain": [
       "       country  year         pop continent  lifeExp   gdpPercap\n",
       "0  Afghanistan  1997  22227415.0      Asia   41.763  635.341351\n",
       "1  Afghanistan  2002  25268405.0      Asia   42.129  726.734055\n",
       "2  Afghanistan  2007  31889923.0      Asia   43.828  974.580338\n",
       "3  Afghanistan  1952   8425333.0      Asia   28.801  779.445314\n",
       "4  Afghanistan  1957   9240934.0      Asia   30.332  820.853030"
      ]
     },
     "execution_count": 3,
     "metadata": {},
     "output_type": "execute_result"
    }
   ],
   "source": [
    "import pandas as pd\n",
    "df = pd.read_csv('C:/Users/Dhiraj/Documents/SDC_workshop_2018-02-10/shell/data/processed_data/gapminder.csv')\n",
    "df.head()"
   ]
  },
  {
   "cell_type": "markdown",
   "metadata": {},
   "source": [
    "* return the data frame from jupyter to view it (pretty)"
   ]
  },
  {
   "cell_type": "code",
   "execution_count": null,
   "metadata": {
    "collapsed": true
   },
   "outputs": [],
   "source": [
    "df"
   ]
  },
  {
   "cell_type": "code",
   "execution_count": 16,
   "metadata": {
    "collapsed": true
   },
   "outputs": [],
   "source": [
    "allcountries_df = pd.read_csv(\"C:/Users/Dhiraj/Documents/SDC_workshop_2018-02-10/shell/data/processed_data/gapminder.csv\")\n",
    "allcountries_df.head()\n",
    "df_t = allcountries_df\n",
    "years = sorted(list(df_t['year'].unique()))\n",
    "for year in years:\n",
    "    col_name = \"gdpPercap_\" + str(year)\n",
    "    df_t[col_name] = 0\n",
    "    \n",
    "for y in years:\n",
    "    df_t.loc[df_t.year == y, \"gdpPercap_\" + str(y)] = df_t[\"gdpPercap\"]\n",
    "    df_t = df_t.groupby(df_t[\"country\"]).max()\n",
    "df_t[\"pop2007\"] = df_t[\"pop\"]\n",
    "df_t[\"lifeExp2007\"] = df_t[\"lifeExp\"]\n",
    "df_t.drop(\"country\", axis=1, inplace=True)\n",
    "df_t.drop(\"gdpPercap\", axis=1, inplace=True)\n",
    "df_t.drop(\"year\", axis=1, inplace=True)\n",
    "df_t.drop(\"lifeExp\", axis=1, inplace=True)\n",
    "\n",
    "continents = df_t[\"continent\"].unique()\n",
    "\n",
    "df_t.to_csv(\"C:/Users/Dhiraj/Documents/SDC_workshop_2018-02-10/shell/data/processed_data/gapminder_All.csv\")\n",
    "for continent in continents:\n",
    "    new_df = df_t.loc[df_t[\"continent\"] == continent]\n",
    "    newfilename = \"gapminder_\" + continent + \".csv\"\n",
    "    new_df.to_csv(\"C:/Users/Dhiraj/Documents/SDC_workshop_2018-02-10/shell/data/processed_data/\" + newfilename)\n",
    "    \n",
    "    df.to_csv(\"C:/Users/Dhiraj/Documents/SDC_workshop_2018-02-10/shell/data/processed_data/aaa.txt\")\n"
   ]
  },
  {
   "cell_type": "markdown",
   "metadata": {},
   "source": [
    "* What if we wanted to break up all the data into files for each continent?\n",
    "* What if we wanted to have only one row for each country?\n",
    "  * We would have to have columns for each year\n",
    "  \n",
    "** Don't worry about all of the code in the block below. By the end of this section it will make sense. **"
   ]
  },
  {
   "cell_type": "code",
   "execution_count": 4,
   "metadata": {},
   "outputs": [
    {
     "ename": "FileNotFoundError",
     "evalue": "[Errno 2] No such file or directory: './data/gapminder_All.csv'",
     "output_type": "error",
     "traceback": [
      "\u001b[1;31m---------------------------------------------------------------------------\u001b[0m",
      "\u001b[1;31mFileNotFoundError\u001b[0m                         Traceback (most recent call last)",
      "\u001b[1;32m<ipython-input-4-c3f0afc97aba>\u001b[0m in \u001b[0;36m<module>\u001b[1;34m()\u001b[0m\n\u001b[0;32m     23\u001b[0m \u001b[0mcontinents\u001b[0m \u001b[1;33m=\u001b[0m \u001b[0mdf_t\u001b[0m\u001b[1;33m[\u001b[0m\u001b[1;34m\"continent\"\u001b[0m\u001b[1;33m]\u001b[0m\u001b[1;33m.\u001b[0m\u001b[0munique\u001b[0m\u001b[1;33m(\u001b[0m\u001b[1;33m)\u001b[0m\u001b[1;33m\u001b[0m\u001b[0m\n\u001b[0;32m     24\u001b[0m \u001b[1;33m\u001b[0m\u001b[0m\n\u001b[1;32m---> 25\u001b[1;33m \u001b[0mdf_t\u001b[0m\u001b[1;33m.\u001b[0m\u001b[0mto_csv\u001b[0m\u001b[1;33m(\u001b[0m\u001b[1;34m\"./data/gapminder_All.csv\"\u001b[0m\u001b[1;33m)\u001b[0m\u001b[1;33m\u001b[0m\u001b[0m\n\u001b[0m\u001b[0;32m     26\u001b[0m \u001b[1;33m\u001b[0m\u001b[0m\n\u001b[0;32m     27\u001b[0m \u001b[1;32mfor\u001b[0m \u001b[0mcontinent\u001b[0m \u001b[1;32min\u001b[0m \u001b[0mcontinents\u001b[0m\u001b[1;33m:\u001b[0m\u001b[1;33m\u001b[0m\u001b[0m\n",
      "\u001b[1;32m~\\Anaconda3\\lib\\site-packages\\pandas\\core\\frame.py\u001b[0m in \u001b[0;36mto_csv\u001b[1;34m(self, path_or_buf, sep, na_rep, float_format, columns, header, index, index_label, mode, encoding, compression, quoting, quotechar, line_terminator, chunksize, tupleize_cols, date_format, doublequote, escapechar, decimal)\u001b[0m\n\u001b[0;32m   1401\u001b[0m                                      \u001b[0mdoublequote\u001b[0m\u001b[1;33m=\u001b[0m\u001b[0mdoublequote\u001b[0m\u001b[1;33m,\u001b[0m\u001b[1;33m\u001b[0m\u001b[0m\n\u001b[0;32m   1402\u001b[0m                                      escapechar=escapechar, decimal=decimal)\n\u001b[1;32m-> 1403\u001b[1;33m         \u001b[0mformatter\u001b[0m\u001b[1;33m.\u001b[0m\u001b[0msave\u001b[0m\u001b[1;33m(\u001b[0m\u001b[1;33m)\u001b[0m\u001b[1;33m\u001b[0m\u001b[0m\n\u001b[0m\u001b[0;32m   1404\u001b[0m \u001b[1;33m\u001b[0m\u001b[0m\n\u001b[0;32m   1405\u001b[0m         \u001b[1;32mif\u001b[0m \u001b[0mpath_or_buf\u001b[0m \u001b[1;32mis\u001b[0m \u001b[1;32mNone\u001b[0m\u001b[1;33m:\u001b[0m\u001b[1;33m\u001b[0m\u001b[0m\n",
      "\u001b[1;32m~\\Anaconda3\\lib\\site-packages\\pandas\\io\\formats\\format.py\u001b[0m in \u001b[0;36msave\u001b[1;34m(self)\u001b[0m\n\u001b[0;32m   1575\u001b[0m             f, handles = _get_handle(self.path_or_buf, self.mode,\n\u001b[0;32m   1576\u001b[0m                                      \u001b[0mencoding\u001b[0m\u001b[1;33m=\u001b[0m\u001b[0mself\u001b[0m\u001b[1;33m.\u001b[0m\u001b[0mencoding\u001b[0m\u001b[1;33m,\u001b[0m\u001b[1;33m\u001b[0m\u001b[0m\n\u001b[1;32m-> 1577\u001b[1;33m                                      compression=self.compression)\n\u001b[0m\u001b[0;32m   1578\u001b[0m             \u001b[0mclose\u001b[0m \u001b[1;33m=\u001b[0m \u001b[1;32mTrue\u001b[0m\u001b[1;33m\u001b[0m\u001b[0m\n\u001b[0;32m   1579\u001b[0m \u001b[1;33m\u001b[0m\u001b[0m\n",
      "\u001b[1;32m~\\Anaconda3\\lib\\site-packages\\pandas\\io\\common.py\u001b[0m in \u001b[0;36m_get_handle\u001b[1;34m(path_or_buf, mode, encoding, compression, memory_map, is_text)\u001b[0m\n\u001b[0;32m    383\u001b[0m         \u001b[1;32melif\u001b[0m \u001b[0mis_text\u001b[0m\u001b[1;33m:\u001b[0m\u001b[1;33m\u001b[0m\u001b[0m\n\u001b[0;32m    384\u001b[0m             \u001b[1;31m# Python 3 and no explicit encoding\u001b[0m\u001b[1;33m\u001b[0m\u001b[1;33m\u001b[0m\u001b[0m\n\u001b[1;32m--> 385\u001b[1;33m             \u001b[0mf\u001b[0m \u001b[1;33m=\u001b[0m \u001b[0mopen\u001b[0m\u001b[1;33m(\u001b[0m\u001b[0mpath_or_buf\u001b[0m\u001b[1;33m,\u001b[0m \u001b[0mmode\u001b[0m\u001b[1;33m,\u001b[0m \u001b[0merrors\u001b[0m\u001b[1;33m=\u001b[0m\u001b[1;34m'replace'\u001b[0m\u001b[1;33m)\u001b[0m\u001b[1;33m\u001b[0m\u001b[0m\n\u001b[0m\u001b[0;32m    386\u001b[0m         \u001b[1;32melse\u001b[0m\u001b[1;33m:\u001b[0m\u001b[1;33m\u001b[0m\u001b[0m\n\u001b[0;32m    387\u001b[0m             \u001b[1;31m# Python 3 and binary mode\u001b[0m\u001b[1;33m\u001b[0m\u001b[1;33m\u001b[0m\u001b[0m\n",
      "\u001b[1;31mFileNotFoundError\u001b[0m: [Errno 2] No such file or directory: './data/gapminder_All.csv'"
     ]
    }
   ],
   "source": [
    "### did not work\n",
    "\n",
    "allcountries_df = pd.read_csv(\"C:/Users/Dhiraj/Documents/SDC_workshop_2018-02-10/shell/data/processed_data/gapminder.csv\")\n",
    "df_t = allcountries_df\n",
    "\n",
    "years = sorted(list(df_t['year'].unique()))\n",
    "# Convert years to strings\n",
    "\n",
    "for year in years:\n",
    "    col_name = \"gdpPercap_\" + str(year)\n",
    "    df_t[col_name] = 0\n",
    "\n",
    "for y in years:\n",
    "    df_t.loc[df_t.year == y, \"gdpPercap_\" + str(y)] = df_t[\"gdpPercap\"]\n",
    "\n",
    "df_t = df_t.groupby(df_t[\"country\"]).max()\n",
    "df_t[\"pop2007\"] = df_t[\"pop\"]\n",
    "df_t[\"lifeExp2007\"] = df_t[\"lifeExp\"]\n",
    "\n",
    "df_t.drop(\"country\", axis=1, inplace=True)\n",
    "df_t.drop(\"gdpPercap\", axis=1, inplace=True)\n",
    "df_t.drop(\"year\", axis=1, inplace=True)\n",
    "df_t.drop(\"lifeExp\", axis=1, inplace=True)\n",
    "\n",
    "continents = df_t[\"continent\"].unique()\n",
    "\n",
    "df_t.to_csv(\"./data/gapminder_All.csv\")\n",
    "\n",
    "for continent in continents:\n",
    "    new_df = df_t.loc[df_t[\"continent\"] == continent]\n",
    "    newfilename = \"gapminder_\" + continent + \".csv\"\n",
    "    new_df.to_csv(\"./data/\" + newfilename)\n",
    "    \n",
    "    df.to_csv(\"./data/\")\n"
   ]
  },
  {
   "cell_type": "markdown",
   "metadata": {},
   "source": [
    "* Check out our data folder after we ran this script. We now have six additional csv files.\n",
    "    ~~~\n",
    "    * gapminder_All.csv\n",
    "    * gapminder_Oceana.csv\n",
    "    * gapminder_Europe.csv\n",
    "    * gapminder_Asia.csv\n",
    "    * gapminder_Americas.csv\n",
    "    * gapminder_Africa.csv\n",
    "    ~~~"
   ]
  },
  {
   "cell_type": "markdown",
   "metadata": {},
   "source": [
    "Lets read in the Africa csv to see how the structure has changed."
   ]
  },
  {
   "cell_type": "code",
   "execution_count": 18,
   "metadata": {},
   "outputs": [
    {
     "data": {
      "text/html": [
       "<div>\n",
       "<style>\n",
       "    .dataframe thead tr:only-child th {\n",
       "        text-align: right;\n",
       "    }\n",
       "\n",
       "    .dataframe thead th {\n",
       "        text-align: left;\n",
       "    }\n",
       "\n",
       "    .dataframe tbody tr th {\n",
       "        vertical-align: top;\n",
       "    }\n",
       "</style>\n",
       "<table border=\"1\" class=\"dataframe\">\n",
       "  <thead>\n",
       "    <tr style=\"text-align: right;\">\n",
       "      <th></th>\n",
       "      <th>country</th>\n",
       "      <th>pop</th>\n",
       "      <th>continent</th>\n",
       "      <th>gdpPercap_1952</th>\n",
       "      <th>gdpPercap_1957</th>\n",
       "      <th>gdpPercap_1962</th>\n",
       "      <th>gdpPercap_1967</th>\n",
       "      <th>gdpPercap_1972</th>\n",
       "      <th>gdpPercap_1977</th>\n",
       "      <th>gdpPercap_1982</th>\n",
       "      <th>gdpPercap_1987</th>\n",
       "      <th>gdpPercap_1992</th>\n",
       "      <th>gdpPercap_1997</th>\n",
       "      <th>gdpPercap_2002</th>\n",
       "      <th>gdpPercap_2007</th>\n",
       "      <th>pop2007</th>\n",
       "      <th>lifeExp2007</th>\n",
       "    </tr>\n",
       "  </thead>\n",
       "  <tbody>\n",
       "    <tr>\n",
       "      <th>0</th>\n",
       "      <td>Algeria</td>\n",
       "      <td>33333216.0</td>\n",
       "      <td>Africa</td>\n",
       "      <td>2449.008185</td>\n",
       "      <td>0.0</td>\n",
       "      <td>0.0</td>\n",
       "      <td>0.0</td>\n",
       "      <td>0.0</td>\n",
       "      <td>0.0</td>\n",
       "      <td>0.0</td>\n",
       "      <td>0.0</td>\n",
       "      <td>0.0</td>\n",
       "      <td>0.0</td>\n",
       "      <td>0.0</td>\n",
       "      <td>6223.367465</td>\n",
       "      <td>33333216.0</td>\n",
       "      <td>72.301</td>\n",
       "    </tr>\n",
       "    <tr>\n",
       "      <th>1</th>\n",
       "      <td>Angola</td>\n",
       "      <td>12420476.0</td>\n",
       "      <td>Africa</td>\n",
       "      <td>3520.610273</td>\n",
       "      <td>0.0</td>\n",
       "      <td>0.0</td>\n",
       "      <td>0.0</td>\n",
       "      <td>0.0</td>\n",
       "      <td>0.0</td>\n",
       "      <td>0.0</td>\n",
       "      <td>0.0</td>\n",
       "      <td>0.0</td>\n",
       "      <td>0.0</td>\n",
       "      <td>0.0</td>\n",
       "      <td>5522.776375</td>\n",
       "      <td>12420476.0</td>\n",
       "      <td>42.731</td>\n",
       "    </tr>\n",
       "    <tr>\n",
       "      <th>2</th>\n",
       "      <td>Benin</td>\n",
       "      <td>8078314.0</td>\n",
       "      <td>Africa</td>\n",
       "      <td>1062.752200</td>\n",
       "      <td>0.0</td>\n",
       "      <td>0.0</td>\n",
       "      <td>0.0</td>\n",
       "      <td>0.0</td>\n",
       "      <td>0.0</td>\n",
       "      <td>0.0</td>\n",
       "      <td>0.0</td>\n",
       "      <td>0.0</td>\n",
       "      <td>0.0</td>\n",
       "      <td>0.0</td>\n",
       "      <td>1441.284873</td>\n",
       "      <td>8078314.0</td>\n",
       "      <td>56.728</td>\n",
       "    </tr>\n",
       "    <tr>\n",
       "      <th>3</th>\n",
       "      <td>Botswana</td>\n",
       "      <td>1639131.0</td>\n",
       "      <td>Africa</td>\n",
       "      <td>851.241141</td>\n",
       "      <td>0.0</td>\n",
       "      <td>0.0</td>\n",
       "      <td>0.0</td>\n",
       "      <td>0.0</td>\n",
       "      <td>0.0</td>\n",
       "      <td>0.0</td>\n",
       "      <td>0.0</td>\n",
       "      <td>0.0</td>\n",
       "      <td>0.0</td>\n",
       "      <td>0.0</td>\n",
       "      <td>12569.851770</td>\n",
       "      <td>1639131.0</td>\n",
       "      <td>63.622</td>\n",
       "    </tr>\n",
       "    <tr>\n",
       "      <th>4</th>\n",
       "      <td>Burkina Faso</td>\n",
       "      <td>14326203.0</td>\n",
       "      <td>Africa</td>\n",
       "      <td>543.255241</td>\n",
       "      <td>0.0</td>\n",
       "      <td>0.0</td>\n",
       "      <td>0.0</td>\n",
       "      <td>0.0</td>\n",
       "      <td>0.0</td>\n",
       "      <td>0.0</td>\n",
       "      <td>0.0</td>\n",
       "      <td>0.0</td>\n",
       "      <td>0.0</td>\n",
       "      <td>0.0</td>\n",
       "      <td>1217.032994</td>\n",
       "      <td>14326203.0</td>\n",
       "      <td>52.295</td>\n",
       "    </tr>\n",
       "  </tbody>\n",
       "</table>\n",
       "</div>"
      ],
      "text/plain": [
       "        country         pop continent  gdpPercap_1952  gdpPercap_1957  \\\n",
       "0       Algeria  33333216.0    Africa     2449.008185             0.0   \n",
       "1        Angola  12420476.0    Africa     3520.610273             0.0   \n",
       "2         Benin   8078314.0    Africa     1062.752200             0.0   \n",
       "3      Botswana   1639131.0    Africa      851.241141             0.0   \n",
       "4  Burkina Faso  14326203.0    Africa      543.255241             0.0   \n",
       "\n",
       "   gdpPercap_1962  gdpPercap_1967  gdpPercap_1972  gdpPercap_1977  \\\n",
       "0             0.0             0.0             0.0             0.0   \n",
       "1             0.0             0.0             0.0             0.0   \n",
       "2             0.0             0.0             0.0             0.0   \n",
       "3             0.0             0.0             0.0             0.0   \n",
       "4             0.0             0.0             0.0             0.0   \n",
       "\n",
       "   gdpPercap_1982  gdpPercap_1987  gdpPercap_1992  gdpPercap_1997  \\\n",
       "0             0.0             0.0             0.0             0.0   \n",
       "1             0.0             0.0             0.0             0.0   \n",
       "2             0.0             0.0             0.0             0.0   \n",
       "3             0.0             0.0             0.0             0.0   \n",
       "4             0.0             0.0             0.0             0.0   \n",
       "\n",
       "   gdpPercap_2002  gdpPercap_2007     pop2007  lifeExp2007  \n",
       "0             0.0     6223.367465  33333216.0       72.301  \n",
       "1             0.0     5522.776375  12420476.0       42.731  \n",
       "2             0.0     1441.284873   8078314.0       56.728  \n",
       "3             0.0    12569.851770   1639131.0       63.622  \n",
       "4             0.0     1217.032994  14326203.0       52.295  "
      ]
     },
     "execution_count": 18,
     "metadata": {},
     "output_type": "execute_result"
    }
   ],
   "source": [
    "df_africa = pd.read_csv('C:/Users/Dhiraj/Documents/SDC_workshop_2018-02-10/shell/data/processed_data/gapminder_Africa.csv')\n",
    "df_africa.head()"
   ]
  },
  {
   "cell_type": "markdown",
   "metadata": {},
   "source": [
    "We can see that now there is only one row for each country. Lets re-read the file using the index_col parameter"
   ]
  },
  {
   "cell_type": "code",
   "execution_count": 20,
   "metadata": {},
   "outputs": [
    {
     "data": {
      "text/plain": [
       "(52, 17)"
      ]
     },
     "execution_count": 20,
     "metadata": {},
     "output_type": "execute_result"
    }
   ],
   "source": [
    "df_africa.dtypes\n",
    "df_africa.shape\n"
   ]
  },
  {
   "cell_type": "markdown",
   "metadata": {},
   "source": [
    "## Inspecting Data\n",
    "We've already see how we can get information about a dataframe using the `.info()` and `.describe()` functions, but there are many ways to get information and view a data frame"
   ]
  },
  {
   "cell_type": "markdown",
   "metadata": {},
   "source": [
    "* Can also use describe() on data frame selections (like a single column)"
   ]
  },
  {
   "cell_type": "code",
   "execution_count": 23,
   "metadata": {},
   "outputs": [
    {
     "data": {
      "text/plain": [
       "Index(['country', 'pop', 'continent', 'gdpPercap_1952', 'gdpPercap_1957',\n",
       "       'gdpPercap_1962', 'gdpPercap_1967', 'gdpPercap_1972', 'gdpPercap_1977',\n",
       "       'gdpPercap_1982', 'gdpPercap_1987', 'gdpPercap_1992', 'gdpPercap_1997',\n",
       "       'gdpPercap_2002', 'gdpPercap_2007', 'pop2007', 'lifeExp2007'],\n",
       "      dtype='object')"
      ]
     },
     "execution_count": 23,
     "metadata": {},
     "output_type": "execute_result"
    }
   ],
   "source": [
    "df_africa.columns\n"
   ]
  },
  {
   "cell_type": "markdown",
   "metadata": {},
   "source": [
    "* We can print the first or last x number of rows of our data frame using the head() and tails() functions."
   ]
  },
  {
   "cell_type": "code",
   "execution_count": null,
   "metadata": {
    "collapsed": true
   },
   "outputs": [],
   "source": [
    "# heads() function\n"
   ]
  },
  {
   "cell_type": "code",
   "execution_count": null,
   "metadata": {
    "collapsed": true
   },
   "outputs": [],
   "source": [
    "# tails() function\n"
   ]
  },
  {
   "cell_type": "markdown",
   "metadata": {},
   "source": [
    "* **Note:** head() and tail() default to 5 rows worth of data. We can also pass a value to either to get more or less rows.\n",
    "  * E.g.  \n",
    "  head(10)\n",
    "  \n",
    " ---\n",
    "  \n",
    "* Use `.dtypes` method to get the data type for each column"
   ]
  },
  {
   "cell_type": "code",
   "execution_count": null,
   "metadata": {
    "collapsed": true
   },
   "outputs": [],
   "source": [
    "# Write your code here\n"
   ]
  },
  {
   "cell_type": "markdown",
   "metadata": {},
   "source": [
    "* Use `shape` method to get the row and column numbers"
   ]
  },
  {
   "cell_type": "code",
   "execution_count": null,
   "metadata": {
    "collapsed": true
   },
   "outputs": [],
   "source": [
    "# Write your code here\n"
   ]
  },
  {
   "cell_type": "markdown",
   "metadata": {},
   "source": [
    "Here we can see the that the data have 52 rows of data and 18 attributes worth of information.\n",
    "\n",
    "* Use the `len()` function to get numbers of each individually"
   ]
  },
  {
   "cell_type": "code",
   "execution_count": null,
   "metadata": {
    "collapsed": true
   },
   "outputs": [],
   "source": [
    "# print number of rows of data\n"
   ]
  },
  {
   "cell_type": "code",
   "execution_count": null,
   "metadata": {
    "collapsed": true
   },
   "outputs": [],
   "source": [
    "# print number of columns of data\n"
   ]
  },
  {
   "cell_type": "markdown",
   "metadata": {},
   "source": [
    "* As seen before we can pass the data frame a column name to get all values for that column\n",
    "\n",
    "\n",
    "* Print out only the lifeExp2007 column from the data frame"
   ]
  },
  {
   "cell_type": "code",
   "execution_count": null,
   "metadata": {
    "collapsed": true
   },
   "outputs": [],
   "source": [
    "# Write your code here\n"
   ]
  },
  {
   "cell_type": "markdown",
   "metadata": {},
   "source": [
    "---\n",
    "## EXERCISE:\n",
    "1. How many different country names are there in the gapminder_all.csv file?\n",
    "\n",
    "---"
   ]
  },
  {
   "cell_type": "code",
   "execution_count": 31,
   "metadata": {},
   "outputs": [
    {
     "data": {
      "text/plain": [
       "(142, 17)"
      ]
     },
     "execution_count": 31,
     "metadata": {},
     "output_type": "execute_result"
    }
   ],
   "source": [
    "# Write your code here\n",
    "df= pd.read_csv (\"C:/Users/Dhiraj/Documents/SDC_workshop_2018-02-10/shell/data/processed_data/gapminder_All.csv\")\n",
    "df.head\n",
    "df.shape"
   ]
  },
  {
   "cell_type": "markdown",
   "metadata": {},
   "source": [
    "---\n",
    "## EXERCISE:\n",
    "1. What is the last country listed in the Africa data frame?\n",
    "\n",
    "---"
   ]
  },
  {
   "cell_type": "code",
   "execution_count": null,
   "metadata": {
    "collapsed": true
   },
   "outputs": [],
   "source": [
    "##Three ways to get the number of countries in the gapminder_All.csv file:\n",
    "    \n",
    "df_all = pd.read_csv(\"C:/Users/Dhiraj/Documents/SDC_workshop_2018-02-10/shell/data/processed_data/gapminder_All.csv\", index_col=\"country\")\n",
    "\n",
    "print(len(df_all.index.unique().tolist()))\n",
    "print(len(df_all))\n",
    "print(df_all.shape[0])"
   ]
  },
  {
   "cell_type": "markdown",
   "metadata": {},
   "source": [
    "---\n",
    "## Get information about a particular column\n",
    "\n",
    "* Operations like mean, max, min, can be used on individual columns\n",
    "  * E.g. `df['year'].min()`"
   ]
  },
  {
   "cell_type": "code",
   "execution_count": null,
   "metadata": {
    "collapsed": true
   },
   "outputs": [],
   "source": [
    "# What is the minimum value in the year column?\n"
   ]
  },
  {
   "cell_type": "markdown",
   "metadata": {},
   "source": [
    "---\n",
    "## EXERCISE:\n",
    "1. What is the mean life expectancy in 2007 for all countries in all years\n",
    "\n",
    "1. What is the max population in 2007 for all countries in all years\n",
    "\n",
    "1. What is the standard deviation for GDP per capita for all countries in all years\n"
   ]
  },
  {
   "cell_type": "code",
   "execution_count": null,
   "metadata": {
    "collapsed": true
   },
   "outputs": [],
   "source": [
    "df = pd.read_csv(\"./data/gapminder_all.csv\")\n",
    "# Mean Life Expectancy in 2007\n",
    "\n",
    "# Max Population in 2007\n",
    "\n",
    "# Standard Deviation of GDP per capita in 1952\n"
   ]
  },
  {
   "cell_type": "markdown",
   "metadata": {},
   "source": [
    "## Rearange Columns\n",
    "\n",
    "* This is difficult to do using a csv library or by hand\n",
    "* The reverse() function will reverse the ordering of a list\n",
    "     * E.g.   `['a', 'b', 'c']` to `['c', 'b', 'a']`"
   ]
  },
  {
   "cell_type": "code",
   "execution_count": null,
   "metadata": {
    "collapsed": true
   },
   "outputs": [],
   "source": [
    "# Use the python list() function to get the data frame columns a s list\n",
    "cols = list(df.columns)\n",
    "print( cols )\n",
    "\n",
    "# use the .reverse() function to reverse the ordering of the columns\n",
    "\n",
    "print ( cols )"
   ]
  },
  {
   "cell_type": "markdown",
   "metadata": {},
   "source": [
    "* Using that now reversed list above, we can pass the list to the new data frame to reorder the columns"
   ]
  },
  {
   "cell_type": "code",
   "execution_count": null,
   "metadata": {
    "collapsed": true
   },
   "outputs": [],
   "source": [
    "# Pass the cols variable to the data frame to re-arrange the columns\n"
   ]
  },
  {
   "cell_type": "markdown",
   "metadata": {},
   "source": [
    "## Transposing tables\n",
    "\n",
    "In many cases we may need to transpose the column and rows in a table.  Pandas allows us to to this easily with the `T` command.\n"
   ]
  },
  {
   "cell_type": "code",
   "execution_count": null,
   "metadata": {
    "collapsed": true,
    "scrolled": true
   },
   "outputs": [],
   "source": [
    "# Print first three rows of the data frame\n",
    "\n",
    "# Transpose the dataframe and print the first three rows\n"
   ]
  },
  {
   "cell_type": "markdown",
   "metadata": {},
   "source": [
    "---\n",
    "## EXERCISE:\n",
    "1. Read in a new data frame for the gapminder_Americas.csv file\n",
    "2. Print the last last three columns of the data frame"
   ]
  },
  {
   "cell_type": "code",
   "execution_count": null,
   "metadata": {
    "collapsed": true
   },
   "outputs": [],
   "source": []
  },
  {
   "cell_type": "markdown",
   "metadata": {},
   "source": [
    "---\n",
    "## Selecting values\n",
    "\n",
    "Data Frames provides a index as a way to identify the rows of the table. A row also has a position inside the table as well as a label, which uniquely identifies its entry in the DataFrame.\n",
    "\n",
    "To access a value at the position [ i , j ] (row, column) of a Data Frame, we have two options, depending on what is the meaning of i in use."
   ]
  },
  {
   "cell_type": "markdown",
   "metadata": {},
   "source": [
    "### Use DataFrame.iloc[..., ...] to select values by their position\n",
    "* Allows you to specify location by numerical index similar to 2D version of character selection in strings.\n"
   ]
  },
  {
   "cell_type": "code",
   "execution_count": null,
   "metadata": {
    "collapsed": true
   },
   "outputs": [],
   "source": [
    "print(\"\\nData value in first row at first column: \", df.iloc[0, 0])"
   ]
  },
  {
   "cell_type": "code",
   "execution_count": null,
   "metadata": {
    "collapsed": true
   },
   "outputs": [],
   "source": [
    "print(\"\\nData value in fifth row at third column: \", df.iloc[4, 2])"
   ]
  },
  {
   "cell_type": "markdown",
   "metadata": {},
   "source": [
    "### Use `DataFrame.loc[..., ...]` to select values by their (index) label.\n",
    "\n",
    "*   Can specify location by name or by numerical index."
   ]
  },
  {
   "cell_type": "code",
   "execution_count": null,
   "metadata": {
    "collapsed": true
   },
   "outputs": [],
   "source": [
    "# Print the value of Albanias GDP per capita in 1952 using .loc\n"
   ]
  },
  {
   "cell_type": "code",
   "execution_count": null,
   "metadata": {
    "collapsed": true
   },
   "outputs": [],
   "source": [
    "# Print the value of Bulgarias GDP per capita in 1962 using .loc\n"
   ]
  },
  {
   "cell_type": "markdown",
   "metadata": {},
   "source": [
    "---\n",
    "## EXERCISE\n",
    "~~~\n",
    "import pandas\n",
    "df = pandas.read_csv('data/gapminder_Europe.csv', index_col='country')\n",
    "~~~\n",
    "\n",
    "1. Find the Per Capita GDP for Serbia in 2007.\n",
    "1. Find the Per Capita GDPs for Germany in 1982"
   ]
  },
  {
   "cell_type": "code",
   "execution_count": null,
   "metadata": {
    "collapsed": true
   },
   "outputs": [],
   "source": [
    "# Write your code here\n"
   ]
  },
  {
   "cell_type": "markdown",
   "metadata": {},
   "source": [
    "---\n",
    "## Slicing Data Frames\n",
    "\n",
    "### Use `:` on its own to mean all columns or all rows.\n",
    "\n",
    "*   Just like Python's usual slicing notation, we can print all columns or all rows with `.loc` using the `:`"
   ]
  },
  {
   "cell_type": "code",
   "execution_count": null,
   "metadata": {
    "collapsed": true
   },
   "outputs": [],
   "source": [
    "# Print all of the row values for all years for Egypt\n"
   ]
  },
  {
   "cell_type": "markdown",
   "metadata": {},
   "source": [
    "* Would get the same result printing `df.iloc[0]` (without a second index).\n",
    "* We can also omit the `:` and get all rows.\n",
    "    * e.g. `df.loc[\"Albania\"]`"
   ]
  },
  {
   "cell_type": "code",
   "execution_count": null,
   "metadata": {
    "collapsed": true
   },
   "outputs": [],
   "source": [
    "# Print the GDP per capita for all countries in 1952\n"
   ]
  },
  {
   "cell_type": "markdown",
   "metadata": {},
   "source": [
    "*   Would get the same result printing `df[\"gdpPercap_1952\"]`\n",
    "*   Also get the same result printing `df.gdpPercap_1952` (since it's a column name)"
   ]
  },
  {
   "cell_type": "markdown",
   "metadata": {},
   "source": [
    "---\n",
    "## EXERCISE:\n",
    "1. Print out GDP per capita for all countries in asia in 1972\n",
    "\n"
   ]
  },
  {
   "cell_type": "code",
   "execution_count": null,
   "metadata": {
    "collapsed": true
   },
   "outputs": [],
   "source": [
    "# Write your code here\n"
   ]
  },
  {
   "cell_type": "markdown",
   "metadata": {},
   "source": [
    "---\n",
    "### We can also use the `:` to select whole sections of a table \n",
    "* Similar to the way we would select a section of from a normal python list, we can do the same with data frames."
   ]
  },
  {
   "cell_type": "code",
   "execution_count": null,
   "metadata": {
    "collapsed": true
   },
   "outputs": [],
   "source": [
    "# Print a selection of all countries in the table from Italy to Poland from years 1962 to 1972\n"
   ]
  },
  {
   "cell_type": "markdown",
   "metadata": {},
   "source": [
    "Note that in Pandas **slicing using indexes is inclusive at both ends**, which differs from typical python behavior where slicing indicates everything up to but not including the final index."
   ]
  },
  {
   "cell_type": "markdown",
   "metadata": {},
   "source": [
    "### Select multiple columns or rows using `DataFrame.iloc` and a named slice.\n",
    "* We can also make selection from a data frame using the index location of the row or column\n",
    "    * Remember that in programming languages, we start counting at 0"
   ]
  },
  {
   "cell_type": "code",
   "execution_count": null,
   "metadata": {
    "collapsed": true
   },
   "outputs": [],
   "source": [
    "#Print the first row of the data frame using the .head() function\n",
    "print(\"First row of data frame:\\n\",  )\n",
    "\n",
    "# Use iloc to print the value in the first row of the first column\n",
    "print(\"\\n\\nValue in the first row of the first column:\\n\",  )\n",
    "\n",
    "# Use iloc to print the values of the first two columns in the first row\n",
    "print(\"Values in the first two columes in the first row:\\n\",  )"
   ]
  },
  {
   "cell_type": "markdown",
   "metadata": {},
   "source": [
    "* **Note that unlike slicing using column or row names, slicing using indexes is not inclusive** "
   ]
  },
  {
   "cell_type": "markdown",
   "metadata": {},
   "source": [
    "---\n",
    "## EXERCISE:\n",
    "1. Print out all values from Hungary through Montenegro (Europe data) for the years 1977 through 1997"
   ]
  },
  {
   "cell_type": "code",
   "execution_count": null,
   "metadata": {
    "collapsed": true
   },
   "outputs": [],
   "source": [
    "# Write code here\n"
   ]
  },
  {
   "cell_type": "markdown",
   "metadata": {},
   "source": [
    "---\n",
    "## EXERCISE:\n",
    "1.  Do the two statements below produce the same output?\n",
    "    ~~~\n",
    "    print(df.iloc[0:2, 0:2])\n",
    "    print(df.loc['Albania':'Belgium', 'gdpPercap_1952':'gdpPercap_1962'])\n",
    "    ~~~\n",
    "\n",
    "1.  Based on this,what rule governs what is included (or not) in numerical slices and named slices in Pandas?\n"
   ]
  },
  {
   "cell_type": "code",
   "execution_count": null,
   "metadata": {
    "collapsed": true
   },
   "outputs": [],
   "source": []
  },
  {
   "cell_type": "markdown",
   "metadata": {},
   "source": [
    "---\n",
    "### Slicing individual rows and columns\n",
    "* Instead of creating slices of *this* to *that* using the `:`, we can also slice using individual rows and columns by placing names or indexes in brackets `[]`."
   ]
  },
  {
   "cell_type": "code",
   "execution_count": null,
   "metadata": {
    "collapsed": true
   },
   "outputs": [],
   "source": [
    "# Print out the GDP per capita of only Italy, Austria, and the United Kingdom in the years 2007 and 1957\n"
   ]
  },
  {
   "cell_type": "markdown",
   "metadata": {},
   "source": [
    "---\n",
    "## EXERCISE:\n",
    "1. Using the index locations, `print` out the first, third, and eight columns for the sixteenth through nineteenth rows."
   ]
  },
  {
   "cell_type": "code",
   "execution_count": null,
   "metadata": {
    "collapsed": true
   },
   "outputs": [],
   "source": []
  },
  {
   "cell_type": "markdown",
   "metadata": {},
   "source": [
    "---\n",
    "## Result of slicing can be used in further operations."
   ]
  },
  {
   "cell_type": "code",
   "execution_count": null,
   "metadata": {
    "collapsed": true
   },
   "outputs": [],
   "source": [
    "# Print out the max value (.max()) of ALL countries from Italy to Poland for 1962 to 1972\n"
   ]
  },
  {
   "cell_type": "code",
   "execution_count": null,
   "metadata": {
    "collapsed": true
   },
   "outputs": [],
   "source": [
    "# Print out the min value (.min()) of ALL countries from Italy to Poland for 1962 to 1972\n"
   ]
  },
  {
   "cell_type": "markdown",
   "metadata": {},
   "source": [
    "*   Usually don't just print a slice.\n",
    "*   All the statistical operators that work on entire data frames work the same way on slices."
   ]
  },
  {
   "cell_type": "markdown",
   "metadata": {},
   "source": [
    "## Create data frame from selections\n",
    "\n",
    "* We can create new data frame by selecting data frames based on values and assigining it to a variable"
   ]
  },
  {
   "cell_type": "code",
   "execution_count": null,
   "metadata": {
    "collapsed": true
   },
   "outputs": [],
   "source": [
    "# Create a selection of ALL countries from Italy to Poland for 1962 to 1972 and \n",
    "#  assign the selection to a variable name \"subset_df\"\n",
    "\n",
    "print('Subset of data:\\n', subset_df)"
   ]
  },
  {
   "cell_type": "markdown",
   "metadata": {},
   "source": [
    "## Create DataFrame using query\n",
    "* We can query values in a data frame to create new selections\n",
    "* By passing a dataframe query to itself, we can create a new dataframe with only those values"
   ]
  },
  {
   "cell_type": "code",
   "execution_count": null,
   "metadata": {
    "collapsed": true
   },
   "outputs": [],
   "source": [
    "# Create a query for the \"gdpPerCap_1962\" series in out subset_df data frame for all values greater than 10000\n",
    "\n",
    "# Create a new data frame called subset_10k_df by passing that query to the subset_df data frame\n",
    "\n",
    "\n",
    "print(query_10k)\n",
    "print(subset_10k_df)\n",
    "print(subset_10k_df.shape)"
   ]
  },
  {
   "cell_type": "markdown",
   "metadata": {},
   "source": [
    "---\n",
    "## EXERCISE:\n",
    "\n",
    "* Create three data frames and get the size of each one.\n",
    "    1. Countries with a gdp per capita in 1952 above 10000\n",
    "    1. Countries with a gdp per capita in 1962 above 10000\n",
    "    1. Countries with a gdp per capita in 1972 above 10000\n",
    "\n",
    "---"
   ]
  },
  {
   "cell_type": "code",
   "execution_count": null,
   "metadata": {
    "collapsed": true
   },
   "outputs": [],
   "source": []
  },
  {
   "cell_type": "markdown",
   "metadata": {},
   "source": [
    "## Filter a DataFrame using a Boolean mask\n",
    "\n",
    "* A frame full of Booleans is sometimes called a *mask* because of how it can be used\n",
    "* Comparison is applied element by element\n",
    "* Returns a similarly-shaped data frame of `True` and `False`"
   ]
  },
  {
   "cell_type": "code",
   "execution_count": null,
   "metadata": {
    "collapsed": true,
    "scrolled": true
   },
   "outputs": [],
   "source": [
    "# Create a full data frame mask for subset_df with a query for all values in all years greater than 10000\n",
    "mask_10k = \n",
    "\n",
    "print( mask_10k )"
   ]
  },
  {
   "cell_type": "markdown",
   "metadata": {},
   "source": [
    "* We can use masks to filter an entire dataframe with a single query\n",
    "    * More efficient than using a single query on multiple columns"
   ]
  },
  {
   "cell_type": "code",
   "execution_count": null,
   "metadata": {
    "collapsed": true
   },
   "outputs": [],
   "source": [
    "# Pass the mask query to subset_df to create a new data frame mask_subset\n",
    "mask_subset = \n",
    "\n",
    "print(mask_subset)\n",
    "print(\"Shape: \", mask_subset.shape)"
   ]
  },
  {
   "cell_type": "markdown",
   "metadata": {},
   "source": [
    "*   Returns the value where the mask is true, and NaN (Not a Number) where it is false.\n",
    "*   Useful because NaNs are ignored by operations like max, min, average, etc.\n",
    "\n",
    "\n",
    "* If we wanted to remove all rows with a NaN value in any column we could use the `.dropna()` function"
   ]
  },
  {
   "cell_type": "code",
   "execution_count": null,
   "metadata": {
    "collapsed": true
   },
   "outputs": [],
   "source": [
    "# Print the mask_subset data frame with all rows with a single NaN value removed\n",
    "\n",
    "\n",
    "# Print the shape of the mask_subset data frame with all rows with an NaN values removed\n"
   ]
  },
  {
   "cell_type": "markdown",
   "metadata": {},
   "source": [
    "## Create new columns\n",
    "\n",
    "* We can easily create new columns in the same way we would add a key and value to a dictionary"
   ]
  },
  {
   "cell_type": "code",
   "execution_count": null,
   "metadata": {
    "collapsed": true
   },
   "outputs": [],
   "source": [
    "# Create a new column in data frame called diff_07_52 that is the difference between gdp per capita from 1952 to 2007\n",
    "\n",
    "\n",
    "print(df.head(1))"
   ]
  },
  {
   "cell_type": "markdown",
   "metadata": {},
   "source": [
    "---\n",
    "## EtherPad\n",
    "\n",
    "On EtherPad explain what the follow expression does:\n",
    "\n",
    "    only_Am = df[df['continent'] == 'Americas']\n",
    "\n",
    "___"
   ]
  },
  {
   "cell_type": "markdown",
   "metadata": {},
   "source": [
    "## EXERCISE:\n",
    "1. Explain in simple terms what `idxmin` and `idxmax` do in the short program below.\n",
    "    ~~~\n",
    "    df = pd.read_csv('data/gapminder_gdp_europe.csv', index_col='country')\n",
    "    print(df.idxmin())\n",
    "    print(df.idymax())\n",
    "    ~~~\n",
    "\n",
    "2. When would you use these methods?"
   ]
  },
  {
   "cell_type": "code",
   "execution_count": null,
   "metadata": {
    "collapsed": true
   },
   "outputs": [],
   "source": []
  },
  {
   "cell_type": "markdown",
   "metadata": {},
   "source": [
    "---\n",
    "## PRACTICE EXERCISE.\n",
    "Using the Gapminder GDP data for Europe, write an expression to select each of the following:\n",
    "1.  GDP per capita for all countries in 1982.\n",
    "1.  GDP per capita for Denmark for all years.\n",
    "1.  GDP per capita for all countries for years *after* 1985.\n",
    "1.  GDP per capita for each country in 2007 as a multiple of GDP per capita for that country in 1952.\n",
    "---"
   ]
  },
  {
   "cell_type": "markdown",
   "metadata": {},
   "source": [
    "# -- COMMIT YOUR WORK TO GITHUB --"
   ]
  },
  {
   "cell_type": "markdown",
   "metadata": {},
   "source": [
    "---\n",
    "## Keypoints:\n",
    " - \"Use `DataFrame.iloc[..., ...]` to select values by index location.\"\n",
    " - \"Use `:` on its own to mean all columns or all rows.\"\n",
    " - \"Select multiple columns or rows using `DataFrame.ix` and a named slice.\"\n",
    " - \"Result of slicing can be used in further operations.\"\n",
    " - \"Use comparisons to select data based on value.\"\n",
    " - \"Select values or NaN using a Boolean mask.\""
   ]
  }
 ],
 "metadata": {
  "anaconda-cloud": {},
  "kernelspec": {
   "display_name": "Python 3",
   "language": "python",
   "name": "python3"
  },
  "language_info": {
   "codemirror_mode": {
    "name": "ipython",
    "version": 3
   },
   "file_extension": ".py",
   "mimetype": "text/x-python",
   "name": "python",
   "nbconvert_exporter": "python",
   "pygments_lexer": "ipython3",
   "version": "3.6.3"
  }
 },
 "nbformat": 4,
 "nbformat_minor": 2
}
